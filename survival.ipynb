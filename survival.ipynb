{
 "cells": [
  {
   "cell_type": "code",
   "execution_count": 1,
   "metadata": {},
   "outputs": [
    {
     "name": "stderr",
     "output_type": "stream",
     "text": [
      "Loading required package: lattice\n",
      "Loading required package: ggplot2\n"
     ]
    }
   ],
   "source": [
    "library('caret')\n",
    "set.seed(1)"
   ]
  },
  {
   "cell_type": "code",
   "execution_count": 2,
   "metadata": {},
   "outputs": [],
   "source": [
    "data=read.csv(\"./vital.csv\")\n",
    "index <- createDataPartition(data$Vital.Status, p=0.75, list=FALSE)\n",
    "trainSet <- data[ index,]\n",
    "testSet <- data[-index,]"
   ]
  },
  {
   "cell_type": "code",
   "execution_count": 3,
   "metadata": {},
   "outputs": [],
   "source": [
    "#Defining the training controls for multiple models\n",
    "fitControl <- trainControl(\n",
    "  method = \"cv\",\n",
    "  number = 5,\n",
    "savePredictions = 'final',\n",
    "classProbs = T)\n",
    "\n",
    "#Defining the predictors and outcome\n",
    "predictors<-c(2:41)\n",
    "outcomeName<-'Vital.Status'"
   ]
  },
  {
   "cell_type": "code",
   "execution_count": 4,
   "metadata": {},
   "outputs": [
    {
     "name": "stderr",
     "output_type": "stream",
     "text": [
      "Warning message:\n",
      "\"glm.fit: fitted probabilities numerically 0 or 1 occurred\"Warning message:\n",
      "\"glm.fit: fitted probabilities numerically 0 or 1 occurred\"Warning message:\n",
      "\"glm.fit: fitted probabilities numerically 0 or 1 occurred\"Warning message:\n",
      "\"glm.fit: fitted probabilities numerically 0 or 1 occurred\"Warning message:\n",
      "\"glm.fit: fitted probabilities numerically 0 or 1 occurred\"Warning message:\n",
      "\"glm.fit: algorithm did not converge\"Warning message:\n",
      "\"glm.fit: fitted probabilities numerically 0 or 1 occurred\""
     ]
    },
    {
     "data": {
      "text/plain": [
       "Confusion Matrix and Statistics\n",
       "\n",
       "          Reference\n",
       "Prediction DECEASED LIVING\n",
       "  DECEASED        0      1\n",
       "  LIVING          2     16\n",
       "                                          \n",
       "               Accuracy : 0.8421          \n",
       "                 95% CI : (0.6042, 0.9662)\n",
       "    No Information Rate : 0.8947          \n",
       "    P-Value [Acc > NIR] : 0.8676          \n",
       "                                          \n",
       "                  Kappa : -0.0755         \n",
       " Mcnemar's Test P-Value : 1.0000          \n",
       "                                          \n",
       "            Sensitivity : 0.00000         \n",
       "            Specificity : 0.94118         \n",
       "         Pos Pred Value : 0.00000         \n",
       "         Neg Pred Value : 0.88889         \n",
       "             Prevalence : 0.10526         \n",
       "         Detection Rate : 0.00000         \n",
       "   Detection Prevalence : 0.05263         \n",
       "      Balanced Accuracy : 0.47059         \n",
       "                                          \n",
       "       'Positive' Class : DECEASED        \n",
       "                                          "
      ]
     },
     "metadata": {},
     "output_type": "display_data"
    }
   ],
   "source": [
    "#Training the Logistic regression model\n",
    "model_lr<-train(trainSet[,predictors],trainSet[,outcomeName],method='glm',trControl=fitControl,tuneLength=3)\n",
    "\n",
    "#Predicting using knn model\n",
    "testSet$pred_lr<-predict(object = model_lr,testSet[,predictors])\n",
    "\n",
    "#Checking the accuracy of the random forest model\n",
    "confusionMatrix(testSet$Vital.Status,testSet$pred_lr)"
   ]
  },
  {
   "cell_type": "code",
   "execution_count": 5,
   "metadata": {},
   "outputs": [
    {
     "name": "stdout",
     "output_type": "stream",
     "text": [
      "[1] \"Overall accuracy is 84.2 %\"\n"
     ]
    }
   ],
   "source": [
    "overall_lr  <- confusionMatrix(testSet$Vital.Status,testSet$pred_lr)\n",
    "print(paste(paste(\"Overall accuracy is\", round(overall_lr$overall[1],3)*100),\"%\"))"
   ]
  },
  {
   "cell_type": "code",
   "execution_count": 6,
   "metadata": {},
   "outputs": [
    {
     "data": {
      "text/plain": [
       "Confusion Matrix and Statistics\n",
       "\n",
       "          Reference\n",
       "Prediction DECEASED LIVING\n",
       "  DECEASED        0      1\n",
       "  LIVING          2     16\n",
       "                                          \n",
       "               Accuracy : 0.8421          \n",
       "                 95% CI : (0.6042, 0.9662)\n",
       "    No Information Rate : 0.8947          \n",
       "    P-Value [Acc > NIR] : 0.8676          \n",
       "                                          \n",
       "                  Kappa : -0.0755         \n",
       " Mcnemar's Test P-Value : 1.0000          \n",
       "                                          \n",
       "            Sensitivity : 0.00000         \n",
       "            Specificity : 0.94118         \n",
       "         Pos Pred Value : 0.00000         \n",
       "         Neg Pred Value : 0.88889         \n",
       "             Prevalence : 0.10526         \n",
       "         Detection Rate : 0.00000         \n",
       "   Detection Prevalence : 0.05263         \n",
       "      Balanced Accuracy : 0.47059         \n",
       "                                          \n",
       "       'Positive' Class : DECEASED        \n",
       "                                          "
      ]
     },
     "metadata": {},
     "output_type": "display_data"
    }
   ],
   "source": [
    "#Training the lda model\n",
    "model_lda<-train(trainSet[,predictors],trainSet[,outcomeName],method='lda',trControl=fitControl,tuneLength=3)\n",
    "\n",
    "#Predicting using knn model\n",
    "testSet$pred_lda<-predict(object = model_lda,testSet[,predictors])\n",
    "\n",
    "#Checking the accuracy of the random forest model\n",
    "confusionMatrix(testSet$Vital.Status,testSet$pred_lda)"
   ]
  },
  {
   "cell_type": "code",
   "execution_count": 7,
   "metadata": {},
   "outputs": [
    {
     "name": "stdout",
     "output_type": "stream",
     "text": [
      "[1] \"Overall accuracy is 84.2 %\"\n"
     ]
    }
   ],
   "source": [
    "overall_lda  <- confusionMatrix(testSet$Vital.Status,testSet$pred_lda)\n",
    "print(paste(paste(\"Overall accuracy is\", round(overall_lda$overall[1],3)*100),\"%\"))"
   ]
  },
  {
   "cell_type": "code",
   "execution_count": 8,
   "metadata": {},
   "outputs": [
    {
     "data": {
      "text/plain": [
       "Confusion Matrix and Statistics\n",
       "\n",
       "          Reference\n",
       "Prediction DECEASED LIVING\n",
       "  DECEASED        0      1\n",
       "  LIVING          1     17\n",
       "                                         \n",
       "               Accuracy : 0.8947         \n",
       "                 95% CI : (0.6686, 0.987)\n",
       "    No Information Rate : 0.9474         \n",
       "    P-Value [Acc > NIR] : 0.9248         \n",
       "                                         \n",
       "                  Kappa : -0.0556        \n",
       " Mcnemar's Test P-Value : 1.0000         \n",
       "                                         \n",
       "            Sensitivity : 0.00000        \n",
       "            Specificity : 0.94444        \n",
       "         Pos Pred Value : 0.00000        \n",
       "         Neg Pred Value : 0.94444        \n",
       "             Prevalence : 0.05263        \n",
       "         Detection Rate : 0.00000        \n",
       "   Detection Prevalence : 0.05263        \n",
       "      Balanced Accuracy : 0.47222        \n",
       "                                         \n",
       "       'Positive' Class : DECEASED       \n",
       "                                         "
      ]
     },
     "metadata": {},
     "output_type": "display_data"
    }
   ],
   "source": [
    "set.seed(3)\n",
    "#Training the random forest model\n",
    "model_rrf<-train(trainSet[,predictors],trainSet[,outcomeName],method='RRF',trControl=fitControl,tuneLength=3)\n",
    "\n",
    "#Predicting using random forest model\n",
    "testSet$pred_rrf<-predict(object = model_rrf,testSet[,predictors])\n",
    "\n",
    "#Checking the accuracy of the random forest model\n",
    "confusionMatrix(testSet$Vital.Status,testSet$pred_rrf)"
   ]
  },
  {
   "cell_type": "code",
   "execution_count": 9,
   "metadata": {},
   "outputs": [
    {
     "name": "stdout",
     "output_type": "stream",
     "text": [
      "[1] \"Overall accuracy is 89.5 %\"\n"
     ]
    }
   ],
   "source": [
    "overall_rrf <- confusionMatrix(testSet$Vital.Status,testSet$pred_rrf)\n",
    "print(paste(paste(\"Overall accuracy is\", round(overall_rrf$overall[1],3)*100),\"%\"))"
   ]
  },
  {
   "cell_type": "code",
   "execution_count": 10,
   "metadata": {},
   "outputs": [],
   "source": [
    "#Predicting the probabilities\n",
    "testSet$pred_rrf_prob<-predict(object = model_rrf,testSet[,predictors],type='prob')\n",
    "testSet$pred_lda_prob<-predict(object = model_lda,testSet[,predictors],type='prob')\n",
    "testSet$pred_lr_prob<-predict(object = model_lr,testSet[,predictors],type='prob')\n",
    "\n",
    "#Taking average of predictions\n",
    "testSet$pred_avg<-(testSet$pred_rrf_prob$LIVING+testSet$pred_lda_prob$LIVING+testSet$pred_lr_prob$LIVING)/3\n",
    "\n",
    "#Splitting into binary classes at 0.5\n",
    "testSet$pred_avg<-as.factor(ifelse(testSet$pred_avg>0.5,'LIVING','DECEASED'))"
   ]
  },
  {
   "cell_type": "code",
   "execution_count": 11,
   "metadata": {},
   "outputs": [],
   "source": [
    "#The majority vote\n",
    "testSet$pred_majority<-as.factor(ifelse(testSet$pred_rrf=='LIVING' & testSet$pred_lda=='LIVING','LIVING',\n",
    "                                        ifelse(testSet$pred_rrf=='LIVING' & testSet$pred_lr=='LIVING','LIVING',\n",
    "                                               ifelse(testSet$pred_lda=='LIVING' & testSet$pred_lr=='LIVING','LIVING','DECEASED'))))"
   ]
  },
  {
   "cell_type": "code",
   "execution_count": 12,
   "metadata": {},
   "outputs": [],
   "source": [
    "#Taking weighted average of predictions\n",
    "testSet$pred_weighted_avg<-(testSet$pred_rrf_prob$LIVING*0.25)+(testSet$pred_lda_prob$LIVING*0.25)+(testSet$pred_lr_prob$LIVING*0.5)\n",
    "\n",
    "#Splitting into binary classes at 0.5\n",
    "testSet$pred_weighted_avg<-as.factor(ifelse(testSet$pred_weighted_avg>0.5,'LIVING','DECEASED'))"
   ]
  },
  {
   "cell_type": "code",
   "execution_count": 13,
   "metadata": {},
   "outputs": [
    {
     "name": "stderr",
     "output_type": "stream",
     "text": [
      "Warning message in nominalTrainWorkflow(x = x, y = y, wts = weights, info = trainInfo, :\n",
      "\"There were missing values in resampled performance measures.\"Warning message in nominalTrainWorkflow(x = x, y = y, wts = weights, info = trainInfo, :\n",
      "\"There were missing values in resampled performance measures.\"Warning message:\n",
      "\"glm.fit: fitted probabilities numerically 0 or 1 occurred\"Warning message:\n",
      "\"glm.fit: fitted probabilities numerically 0 or 1 occurred\"Warning message:\n",
      "\"glm.fit: fitted probabilities numerically 0 or 1 occurred\"Warning message:\n",
      "\"glm.fit: fitted probabilities numerically 0 or 1 occurred\"Warning message:\n",
      "\"glm.fit: fitted probabilities numerically 0 or 1 occurred\"Warning message:\n",
      "\"glm.fit: fitted probabilities numerically 0 or 1 occurred\"Warning message:\n",
      "\"glm.fit: fitted probabilities numerically 0 or 1 occurred\"Warning message:\n",
      "\"glm.fit: fitted probabilities numerically 0 or 1 occurred\"Warning message:\n",
      "\"glm.fit: fitted probabilities numerically 0 or 1 occurred\"Warning message:\n",
      "\"glm.fit: fitted probabilities numerically 0 or 1 occurred\"Warning message in nominalTrainWorkflow(x = x, y = y, wts = weights, info = trainInfo, :\n",
      "\"There were missing values in resampled performance measures.\"Warning message:\n",
      "\"glm.fit: algorithm did not converge\"Warning message:\n",
      "\"glm.fit: fitted probabilities numerically 0 or 1 occurred\""
     ]
    }
   ],
   "source": [
    "#Defining the training control\n",
    "fitControl <- trainControl(\n",
    "method = \"cv\",\n",
    "number = 10,\n",
    "savePredictions = 'final', # To save out of fold predictions for best parameter combinantions\n",
    "classProbs = T # To save the class probabilities of the out of fold predictions\n",
    ")\n",
    "\n",
    "#Defining the predictors and outcome\n",
    "predictors<-c(2:40)\n",
    "outcomeName<-'Vital.Status'\n",
    "#Training the random forest model\n",
    "model_rrf<-train(trainSet[,predictors],trainSet[,outcomeName],method='RRF',trControl=fitControl,tuneLength=3)\n",
    "\n",
    "model_lda<-train(trainSet[,predictors],trainSet[,outcomeName],method='lda',trControl=fitControl,tuneLength=3)\n",
    "\n",
    "\n",
    "#Training the logistic regression model\n",
    "model_lr<-train(trainSet[,predictors],trainSet[,outcomeName],method='glm',trControl=fitControl,tuneLength=3)"
   ]
  },
  {
   "cell_type": "code",
   "execution_count": 14,
   "metadata": {},
   "outputs": [],
   "source": [
    "#Predicting the out of fold prediction probabilities for training data\n",
    "trainSet$OOF_pred_rrf<-model_rrf$pred$LIVING[order(model_rrf$pred$rowIndex)]\n",
    "trainSet$OOF_pred_lda<-model_lda$pred$LIVING[order(model_lda$pred$rowIndex)]\n",
    "trainSet$OOF_pred_lr<-model_lr$pred$LIVING[order(model_lr$pred$rowIndex)]\n",
    "\n",
    "#Predicting probabilities for the test data\n",
    "testSet$OOF_pred_rrf<-predict(model_rrf,testSet[predictors],type='prob')$LIVING\n",
    "testSet$OOF_pred_lda<-predict(model_lda,testSet[predictors],type='prob')$LIVING\n",
    "testSet$OOF_pred_lr<-predict(model_lr,testSet[predictors],type='prob')$LIVING"
   ]
  },
  {
   "cell_type": "code",
   "execution_count": 15,
   "metadata": {},
   "outputs": [],
   "source": [
    "#Predictors for top layer models \n",
    "predictors_top<-c('OOF_pred_rrf','OOF_pred_lda','OOF_pred_lr') "
   ]
  },
  {
   "cell_type": "code",
   "execution_count": 81,
   "metadata": {},
   "outputs": [
    {
     "name": "stderr",
     "output_type": "stream",
     "text": [
      "Warning message:\n",
      "\"glm.fit: fitted probabilities numerically 0 or 1 occurred\"Warning message in nominalTrainWorkflow(x = x, y = y, wts = weights, info = trainInfo, :\n",
      "\"There were missing values in resampled performance measures.\""
     ]
    }
   ],
   "source": [
    "\n",
    "#GBM as top layer model \n",
    "model_gbm<- \n",
    "train(trainSet[,predictors_top],trainSet[,outcomeName],method='gbm',trControl=fitControl,tuneLength=3)"
   ]
  },
  {
   "cell_type": "code",
   "execution_count": 82,
   "metadata": {},
   "outputs": [],
   "source": [
    "#predict using GBM top layer model\n",
    "testSet$gbm_stacked<-predict(model_gbm,testSet[,predictors_top])"
   ]
  },
  {
   "cell_type": "code",
   "execution_count": 83,
   "metadata": {},
   "outputs": [
    {
     "data": {
      "text/plain": [
       "Confusion Matrix and Statistics\n",
       "\n",
       "          Reference\n",
       "Prediction DECEASED LIVING\n",
       "  DECEASED        0      1\n",
       "  LIVING          1     17\n",
       "                                         \n",
       "               Accuracy : 0.8947         \n",
       "                 95% CI : (0.6686, 0.987)\n",
       "    No Information Rate : 0.9474         \n",
       "    P-Value [Acc > NIR] : 0.9248         \n",
       "                                         \n",
       "                  Kappa : -0.0556        \n",
       " Mcnemar's Test P-Value : 1.0000         \n",
       "                                         \n",
       "            Sensitivity : 0.00000        \n",
       "            Specificity : 0.94444        \n",
       "         Pos Pred Value : 0.00000        \n",
       "         Neg Pred Value : 0.94444        \n",
       "             Prevalence : 0.05263        \n",
       "         Detection Rate : 0.00000        \n",
       "   Detection Prevalence : 0.05263        \n",
       "      Balanced Accuracy : 0.47222        \n",
       "                                         \n",
       "       'Positive' Class : DECEASED       \n",
       "                                         "
      ]
     },
     "metadata": {},
     "output_type": "display_data"
    }
   ],
   "source": [
    "confusionMatrix(testSet$Vital.Status,testSet$gbm_stacked)"
   ]
  },
  {
   "cell_type": "code",
   "execution_count": 18,
   "metadata": {},
   "outputs": [
    {
     "name": "stdout",
     "output_type": "stream",
     "text": [
      "[1] \"Overall accuracy is 89.5 %\"\n"
     ]
    }
   ],
   "source": [
    "overall_gbm  <- confusionMatrix(testSet$Vital.Status,testSet$gbm_stacked)\n",
    "print(paste(paste(\"Overall accuracy is\", round(overall_gbm$overall[1],3)*100),\"%\"))"
   ]
  },
  {
   "cell_type": "code",
   "execution_count": 16,
   "metadata": {},
   "outputs": [
    {
     "name": "stdout",
     "output_type": "stream",
     "text": [
      "maximum number of iterations reached 0.0004032486 -0.000403238"
     ]
    },
    {
     "name": "stderr",
     "output_type": "stream",
     "text": [
      "Warning message in nominalTrainWorkflow(x = x, y = y, wts = weights, info = trainInfo, :\n",
      "\"There were missing values in resampled performance measures.\""
     ]
    }
   ],
   "source": [
    "#Logistic regression as top layer model\n",
    "model_svmLinear<-\n",
    "train(trainSet[,predictors_top],trainSet[,outcomeName],method='svmLinear',trControl=fitControl,tuneLength=3)"
   ]
  },
  {
   "cell_type": "code",
   "execution_count": 17,
   "metadata": {},
   "outputs": [],
   "source": [
    "#predict using logictic regression top layer model\n",
    "testSet$svm_stacked<-predict(model_svmLinear,testSet[,predictors_top])"
   ]
  },
  {
   "cell_type": "code",
   "execution_count": 18,
   "metadata": {},
   "outputs": [
    {
     "data": {
      "text/plain": [
       "Confusion Matrix and Statistics\n",
       "\n",
       "          Reference\n",
       "Prediction DECEASED LIVING\n",
       "  DECEASED        0      1\n",
       "  LIVING          0     18\n",
       "                                          \n",
       "               Accuracy : 0.9474          \n",
       "                 95% CI : (0.7397, 0.9987)\n",
       "    No Information Rate : 1               \n",
       "    P-Value [Acc > NIR] : 1               \n",
       "                                          \n",
       "                  Kappa : 0               \n",
       " Mcnemar's Test P-Value : 1               \n",
       "                                          \n",
       "            Sensitivity :      NA         \n",
       "            Specificity : 0.94737         \n",
       "         Pos Pred Value :      NA         \n",
       "         Neg Pred Value :      NA         \n",
       "             Prevalence : 0.00000         \n",
       "         Detection Rate : 0.00000         \n",
       "   Detection Prevalence : 0.05263         \n",
       "      Balanced Accuracy :      NA         \n",
       "                                          \n",
       "       'Positive' Class : DECEASED        \n",
       "                                          "
      ]
     },
     "metadata": {},
     "output_type": "display_data"
    }
   ],
   "source": [
    "confusionMatrix(testSet$Vital.Status,testSet$svm_stacked)"
   ]
  },
  {
   "cell_type": "code",
   "execution_count": 19,
   "metadata": {},
   "outputs": [
    {
     "name": "stdout",
     "output_type": "stream",
     "text": [
      "[1] \"Overall accuracy is 94.7 %\"\n"
     ]
    }
   ],
   "source": [
    "overall_svm  <- confusionMatrix(testSet$Vital.Status,testSet$svm_stacked)\n",
    "print(paste(paste(\"Overall accuracy is\", round(overall_svm$overall[1],3)*100),\"%\"))"
   ]
  },
  {
   "cell_type": "code",
   "execution_count": 21,
   "metadata": {},
   "outputs": [],
   "source": [
    "algo<-c(\"GLM\",\"LDA\",\"Random Forest\",\"Stacked-GBM\",\"Stacked-SVM\")\n",
    "accuracy<-c(\"84.21\",\"84.21\",\"89.47\",\"89.47\",\"94.74\")\n",
    "x <- data.frame(\"algo\" = algo, \"accuracy\" = accuracy)"
   ]
  },
  {
   "cell_type": "code",
   "execution_count": 22,
   "metadata": {},
   "outputs": [
    {
     "data": {},
     "metadata": {},
     "output_type": "display_data"
    },
    {
     "data": {
      "image/png": "[encoded data removed]",
      "text/plain": [
       "plot without title"
      ]
     },
     "metadata": {},
     "output_type": "display_data"
    }
   ],
   "source": [
    "library(ggplot2)\n",
    "ggplot(x, aes(algo, accuracy, colour = algo , fill=accuracy)) + \n",
    "  geom_point(size=5)\n"
   ]
  },
  {
   "cell_type": "code",
   "execution_count": null,
   "metadata": {},
   "outputs": [
    {
     "name": "stderr",
     "output_type": "stream",
     "text": [
      "\n",
      "Listening on http://127.0.0.1:6447\n",
      "Warning message in nominalTrainWorkflow(x = x, y = y, wts = weights, info = trainInfo, :\n",
      "\"There were missing values in resampled performance measures.\""
     ]
    }
   ],
   "source": [
    "library(shiny)\n",
    "options(shiny.maxRequestSize = 9*1024^2)\n",
    "\n",
    "server<-function(input, output) {\n",
    "\n",
    " \n",
    "#Predicting probabilities for the test data\n",
    "    output$out<-renderText({\"Patient will be : \"})\n",
    "    output$tex<-renderTable({\n",
    "        inFile <- input$file1\n",
    "\n",
    "    if (is.null(inFile))\n",
    "      return(NULL)\n",
    "infile<-read.csv(inFile$datapath)\n",
    "infile$OOF_pred_rrf<-predict(model_rrf,infile[predictors],type='prob')$LIVING\n",
    "infile$OOF_pred_lda<-predict(model_lda,infile[predictors],type='prob')$LIVING\n",
    "infile$OOF_pred_lr<-predict(model_lr,infile[predictors],type='prob')$LIVING\n",
    "        predictors_top<-c('OOF_pred_rrf','OOF_pred_lda','OOF_pred_lr') \n",
    "\n",
    "#GBM as top layer model \n",
    "model_svmLinear<-\n",
    "train(trainSet[,predictors_top],trainSet[,outcomeName],method='svmLinear',trControl=fitControl,tuneLength=3)\n",
    "        infile$svm_stacked<-predict(model_svmLinear,infile[,predictors_top])\n",
    "        infile$svm_stacked\n",
    "        \n",
    "    })\n",
    "}\n",
    "ui<-fluidPage(\n",
    "  titlePanel(\"Uploading Files\"),\n",
    "  sidebarLayout(\n",
    "    sidebarPanel(\n",
    "      fileInput('file1', 'Choose file to upload',\n",
    "                accept = c(\n",
    "                  'text/csv',\n",
    "                  'text/comma-separated-values',\n",
    "                  'text/tab-separated-values',\n",
    "                  'text/plain',\n",
    "                  '.csv',\n",
    "                  '.tsv'\n",
    "                )\n",
    "      )),\n",
    "    mainPanel(textOutput('out'),\n",
    "            tableOutput('tex')\n",
    "    )\n",
    "  )\n",
    "\n",
    "    )\n",
    "\n",
    "shinyApp(ui, server)"
   ]
  },
  {
   "cell_type": "code",
   "execution_count": null,
   "metadata": {},
   "outputs": [],
   "source": []
  }
 ],
 "metadata": {
  "kernelspec": {
   "display_name": "R",
   "language": "R",
   "name": "ir"
  },
  "language_info": {
   "codemirror_mode": "r",
   "file_extension": ".r",
   "mimetype": "text/x-r-source",
   "name": "R",
   "pygments_lexer": "r",
   "version": "3.5.1"
  }
 },
 "nbformat": 4,
 "nbformat_minor": 2
}
