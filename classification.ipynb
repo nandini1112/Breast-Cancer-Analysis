{
 "cells": [
  {
   "cell_type": "code",
   "execution_count": 1,
   "metadata": {},
   "outputs": [],
   "source": [
    "gene_proteins <- read.csv(\"C:/Users/Nandini/Desktop/minor/PAM50_proteins.csv\")\n",
    "clinical <- read.csv(\"C:/Users/Nandini/Desktop/minor/clinical_data_breast_cancer.csv\")\n",
    "proteomes <- read.csv(\"C:/Users/Nandini/Desktop/minor/77_cancer_proteomes_CPTAC_itraq.csv\")"
   ]
  },
  {
   "cell_type": "code",
   "execution_count": 2,
   "metadata": {},
   "outputs": [],
   "source": [
    "n <- proteomes$RefSeq_accession_number \n",
    "proteomes <- as.data.frame(t(proteomes[,4:86]))\n",
    "colnames(proteomes) <- n\n",
    "proteomes <- cbind(rownames(proteomes), data.frame(proteomes, row.names=NULL))\n",
    "colnames(proteomes)[1] <- \"Complete.TCGA.ID\""
   ]
  },
  {
   "cell_type": "code",
   "execution_count": 3,
   "metadata": {},
   "outputs": [],
   "source": [
    "get.clinical.id <- function(proteome.id) {\n",
    "  x = substr(proteome.id, 4, 7)\n",
    "  y = substr(proteome.id, 0, 2)\n",
    "  paste(\"TCGA\",y,x,sep=\"-\")\n",
    "}\n",
    "proteomes$Complete.TCGA.ID <- sapply(proteomes$Complete.TCGA.ID, get.clinical.id)\n",
    "proteomes_all <- proteomes"
   ]
  },
  {
   "cell_type": "code",
   "execution_count": 4,
   "metadata": {},
   "outputs": [
    {
     "data": {
      "text/html": [
       "2251"
      ],
      "text/latex": [
       "2251"
      ],
      "text/markdown": [
       "2251"
      ],
      "text/plain": [
       "[1] 2251"
      ]
     },
     "metadata": {},
     "output_type": "display_data"
    },
    {
     "data": {
      "image/png": "[encoded data removed]",
      "text/plain": [
       "Plot with title \"Propotion of missing data for each proteome\""
      ]
     },
     "metadata": {},
     "output_type": "display_data"
    }
   ],
   "source": [
    "naCounts <- colSums(is.na(proteomes)) / nrow(proteomes)\n",
    "plot(sort(naCounts, decreasing = TRUE), col =\"red\", type = 'h', xlab = \"index of proteome\", ylab=\"proportion of missing data\", main = \"Propotion of missing data for each proteome\") \n",
    "length(naCounts[naCounts>0.25])"
   ]
  },
  {
   "cell_type": "code",
   "execution_count": 5,
   "metadata": {},
   "outputs": [],
   "source": [
    "proteomes <- proteomes[ , colSums(is.na(proteomes))  / nrow(proteomes) < 0.25] \n",
    "for (i in which(sapply(proteomes, is.numeric))) {\n",
    "    proteomes[is.na(proteomes[, i]), i] <- mean(proteomes[, i],  na.rm = TRUE)\n",
    "}"
   ]
  },
  {
   "cell_type": "code",
   "execution_count": 6,
   "metadata": {},
   "outputs": [
    {
     "name": "stderr",
     "output_type": "stream",
     "text": [
      "\n",
      "Attaching package: 'dplyr'\n",
      "\n",
      "The following objects are masked from 'package:stats':\n",
      "\n",
      "    filter, lag\n",
      "\n",
      "The following objects are masked from 'package:base':\n",
      "\n",
      "    intersect, setdiff, setequal, union\n",
      "\n",
      "Warning message:\n",
      "\"Column `Complete.TCGA.ID` joining factor and character vector, coercing into character vector\""
     ]
    }
   ],
   "source": [
    "library(dplyr)\n",
    "setwd(\"C:/Users/Nandini/Desktop/minor\")\n",
    "data <-  inner_join(clinical, proteomes, by = \"Complete.TCGA.ID\")\n",
    "colnames(data)[3] <- \"diag_age\"\n",
    "write.csv(data,file=\"minor.csv\",row.names=FALSE)"
   ]
  },
  {
   "cell_type": "code",
   "execution_count": 7,
   "metadata": {},
   "outputs": [
    {
     "data": {},
     "metadata": {},
     "output_type": "display_data"
    },
    {
     "data": {
      "image/png": "[encoded data removed]",
      "text/plain": [
       "plot without title"
      ]
     },
     "metadata": {},
     "output_type": "display_data"
    }
   ],
   "source": [
    "library(ggplot2)\n",
    "ggplot(data, aes(PAM50.mRNA, col = PAM50.mRNA, fill = PAM50.mRNA, alpha=0.7)) + geom_bar() + ggtitle(\"Proportion of patients with each cancer subtype\")"
   ]
  },
  {
   "cell_type": "code",
   "execution_count": 8,
   "metadata": {},
   "outputs": [],
   "source": [
    "library(lattice)\n",
    "set.seed(1)\n",
    "library(caret)\n",
    "samp <- createDataPartition(data$PAM50.mRNA, p = 0.7, list = FALSE)"
   ]
  },
  {
   "cell_type": "code",
   "execution_count": 9,
   "metadata": {},
   "outputs": [
    {
     "name": "stderr",
     "output_type": "stream",
     "text": [
      "Loaded glmnet 2.0-16\n",
      "\n"
     ]
    }
   ],
   "source": [
    "library(Matrix)\n",
    "library(foreach)\n",
    "options(warn = -1)\n",
    "library(glmnet)\n",
    "LassoSub=function(k=1, Xdata, Ydata){\n",
    "  set.seed(k)\n",
    "  s=sample(nrow(data), size=0.8*nrow(data))\n",
    "  Xsub=Xdata[s, ]\n",
    "  Ysub=Ydata[s]\n",
    "  model.sub=cv.glmnet(x=Xsub, y=Ysub, alpha=1, family=\"multinomial\") \n",
    "  coef.sub=coef(model.sub, s='lambda.1se')[-1] \n",
    "  return(coef.sub)\n",
    "}"
   ]
  },
  {
   "cell_type": "code",
   "execution_count": 10,
   "metadata": {},
   "outputs": [],
   "source": [
    "lasso.stab=sapply(1:100, FUN=LassoSub, Xdata=as.matrix(data[,31:ncol(data)]), Ydata=as.matrix(data[,21]))"
   ]
  },
  {
   "cell_type": "code",
   "execution_count": 14,
   "metadata": {},
   "outputs": [
    {
     "data": {
      "text/html": [
       "10332"
      ],
      "text/latex": [
       "10332"
      ],
      "text/markdown": [
       "10332"
      ],
      "text/plain": [
       "[1] 10332"
      ]
     },
     "metadata": {},
     "output_type": "display_data"
    }
   ],
   "source": [
    "ncol(data)"
   ]
  },
  {
   "cell_type": "code",
   "execution_count": 15,
   "metadata": {},
   "outputs": [
    {
     "data": {
      "text/html": [
       "80"
      ],
      "text/latex": [
       "80"
      ],
      "text/markdown": [
       "80"
      ],
      "text/plain": [
       "[1] 80"
      ]
     },
     "metadata": {},
     "output_type": "display_data"
    }
   ],
   "source": [
    "nrow(data)"
   ]
  },
  {
   "cell_type": "code",
   "execution_count": 16,
   "metadata": {},
   "outputs": [
    {
     "data": {
      "text/html": [
       "<table>\n",
       "<thead><tr><th></th><th scope=col>times_selected</th><th scope=col>protein</th></tr></thead>\n",
       "<tbody>\n",
       "\t<tr><th scope=row>NP_958782</th><td>0           </td><td>NP_958782   </td></tr>\n",
       "\t<tr><th scope=row>NP_958785</th><td>0           </td><td>NP_958785   </td></tr>\n",
       "\t<tr><th scope=row>NP_958786</th><td>0           </td><td>NP_958786   </td></tr>\n",
       "\t<tr><th scope=row>NP_000436</th><td>0           </td><td>NP_000436   </td></tr>\n",
       "\t<tr><th scope=row>NP_958781</th><td>0           </td><td>NP_958781   </td></tr>\n",
       "\t<tr><th scope=row>NP_958780</th><td>0           </td><td>NP_958780   </td></tr>\n",
       "\t<tr><th scope=row>NP_958783</th><td>0           </td><td>NP_958783   </td></tr>\n",
       "\t<tr><th scope=row>NP_958784</th><td>0           </td><td>NP_958784   </td></tr>\n",
       "\t<tr><th scope=row>NP_112598</th><td>0           </td><td>NP_112598   </td></tr>\n",
       "\t<tr><th scope=row>NP_001611</th><td>0           </td><td>NP_001611   </td></tr>\n",
       "\t<tr><th scope=row>NP_076965</th><td>0           </td><td>NP_076965   </td></tr>\n",
       "\t<tr><th scope=row>NP_001367</th><td>3           </td><td>NP_001367   </td></tr>\n",
       "\t<tr><th scope=row>NP_036222</th><td>0           </td><td>NP_036222   </td></tr>\n",
       "\t<tr><th scope=row>NP_001138241</th><td>0           </td><td>NP_001138241</td></tr>\n",
       "\t<tr><th scope=row>NP_001714</th><td>0           </td><td>NP_001714   </td></tr>\n",
       "\t<tr><th scope=row>NP_002464</th><td>0           </td><td>NP_002464   </td></tr>\n",
       "\t<tr><th scope=row>NP_001073936</th><td>0           </td><td>NP_001073936</td></tr>\n",
       "\t<tr><th scope=row>NP_061198</th><td>0           </td><td>NP_061198   </td></tr>\n",
       "\t<tr><th scope=row>NP_001074248</th><td>0           </td><td>NP_001074248</td></tr>\n",
       "\t<tr><th scope=row>NP_001074419</th><td>0           </td><td>NP_001074419</td></tr>\n",
       "\t<tr><th scope=row>NP_056009</th><td>0           </td><td>NP_056009   </td></tr>\n",
       "\t<tr><th scope=row>NP_036355</th><td>0           </td><td>NP_036355   </td></tr>\n",
       "\t<tr><th scope=row>NP_001155291</th><td>0           </td><td>NP_001155291</td></tr>\n",
       "\t<tr><th scope=row>NP_002462</th><td>0           </td><td>NP_002462   </td></tr>\n",
       "\t<tr><th scope=row>NP_000248</th><td>0           </td><td>NP_000248   </td></tr>\n",
       "\t<tr><th scope=row>NP_036467</th><td>0           </td><td>NP_036467   </td></tr>\n",
       "\t<tr><th scope=row>NP_004989</th><td>0           </td><td>NP_004989   </td></tr>\n",
       "\t<tr><th scope=row>NP_001243024</th><td>0           </td><td>NP_001243024</td></tr>\n",
       "\t<tr><th scope=row>NP_149043</th><td>0           </td><td>NP_149043   </td></tr>\n",
       "\t<tr><th scope=row>NP_067047</th><td>0           </td><td>NP_067047   </td></tr>\n",
       "\t<tr><th scope=row>...</th><td>...</td><td>...</td></tr>\n",
       "\t<tr><th scope=row>NP_443073</th><td>0           </td><td>NP_443073   </td></tr>\n",
       "\t<tr><th scope=row>NP_001121687</th><td>0           </td><td>NP_001121687</td></tr>\n",
       "\t<tr><th scope=row>NP_945193</th><td>0           </td><td>NP_945193   </td></tr>\n",
       "\t<tr><th scope=row>NP_653326</th><td>0           </td><td>NP_653326   </td></tr>\n",
       "\t<tr><th scope=row>NP_001243586</th><td>0           </td><td>NP_001243586</td></tr>\n",
       "\t<tr><th scope=row>NP_000991</th><td>0           </td><td>NP_000991   </td></tr>\n",
       "\t<tr><th scope=row>NP_001164102</th><td>0           </td><td>NP_001164102</td></tr>\n",
       "\t<tr><th scope=row>NP_057700</th><td>0           </td><td>NP_057700   </td></tr>\n",
       "\t<tr><th scope=row>NP_115996</th><td>0           </td><td>NP_115996   </td></tr>\n",
       "\t<tr><th scope=row>NP_699167</th><td>0           </td><td>NP_699167   </td></tr>\n",
       "\t<tr><th scope=row>NP_001004456</th><td>0           </td><td>NP_001004456</td></tr>\n",
       "\t<tr><th scope=row>NP_001087199</th><td>0           </td><td>NP_001087199</td></tr>\n",
       "\t<tr><th scope=row>NP_001792</th><td>0           </td><td>NP_001792   </td></tr>\n",
       "\t<tr><th scope=row>NP_001185982</th><td>0           </td><td>NP_001185982</td></tr>\n",
       "\t<tr><th scope=row>NP_848578</th><td>0           </td><td>NP_848578   </td></tr>\n",
       "\t<tr><th scope=row>NP_997625</th><td>0           </td><td>NP_997625   </td></tr>\n",
       "\t<tr><th scope=row>NP_003270</th><td>0           </td><td>NP_003270   </td></tr>\n",
       "\t<tr><th scope=row>NP_078879</th><td>0           </td><td>NP_078879   </td></tr>\n",
       "\t<tr><th scope=row>NP_057655</th><td>0           </td><td>NP_057655   </td></tr>\n",
       "\t<tr><th scope=row>NP_653179</th><td>0           </td><td>NP_653179   </td></tr>\n",
       "\t<tr><th scope=row>NP_002460</th><td>0           </td><td>NP_002460   </td></tr>\n",
       "\t<tr><th scope=row>NP_001092808</th><td>0           </td><td>NP_001092808</td></tr>\n",
       "\t<tr><th scope=row>NP_000610</th><td>0           </td><td>NP_000610   </td></tr>\n",
       "\t<tr><th scope=row>NP_699178</th><td>0           </td><td>NP_699178   </td></tr>\n",
       "\t<tr><th scope=row>NP_006140</th><td>0           </td><td>NP_006140   </td></tr>\n",
       "\t<tr><th scope=row>NP_068835</th><td>0           </td><td>NP_068835   </td></tr>\n",
       "\t<tr><th scope=row>NP_612382</th><td>0           </td><td>NP_612382   </td></tr>\n",
       "\t<tr><th scope=row>NP_848561</th><td>0           </td><td>NP_848561   </td></tr>\n",
       "\t<tr><th scope=row>NP_665813</th><td>0           </td><td>NP_665813   </td></tr>\n",
       "\t<tr><th scope=row>NP_001193600</th><td>0           </td><td>NP_001193600</td></tr>\n",
       "</tbody>\n",
       "</table>\n"
      ],
      "text/latex": [
       "\\begin{tabular}{r|ll}\n",
       "  & times\\_selected & protein\\\\\n",
       "\\hline\n",
       "\tNP\\_958782 & 0              & NP\\_958782   \\\\\n",
       "\tNP\\_958785 & 0              & NP\\_958785   \\\\\n",
       "\tNP\\_958786 & 0              & NP\\_958786   \\\\\n",
       "\tNP\\_000436 & 0              & NP\\_000436   \\\\\n",
       "\tNP\\_958781 & 0              & NP\\_958781   \\\\\n",
       "\tNP\\_958780 & 0              & NP\\_958780   \\\\\n",
       "\tNP\\_958783 & 0              & NP\\_958783   \\\\\n",
       "\tNP\\_958784 & 0              & NP\\_958784   \\\\\n",
       "\tNP\\_112598 & 0              & NP\\_112598   \\\\\n",
       "\tNP\\_001611 & 0              & NP\\_001611   \\\\\n",
       "\tNP\\_076965 & 0              & NP\\_076965   \\\\\n",
       "\tNP\\_001367 & 3              & NP\\_001367   \\\\\n",
       "\tNP\\_036222 & 0              & NP\\_036222   \\\\\n",
       "\tNP\\_001138241 & 0              & NP\\_001138241\\\\\n",
       "\tNP\\_001714 & 0              & NP\\_001714   \\\\\n",
       "\tNP\\_002464 & 0              & NP\\_002464   \\\\\n",
       "\tNP\\_001073936 & 0              & NP\\_001073936\\\\\n",
       "\tNP\\_061198 & 0              & NP\\_061198   \\\\\n",
       "\tNP\\_001074248 & 0              & NP\\_001074248\\\\\n",
       "\tNP\\_001074419 & 0              & NP\\_001074419\\\\\n",
       "\tNP\\_056009 & 0              & NP\\_056009   \\\\\n",
       "\tNP\\_036355 & 0              & NP\\_036355   \\\\\n",
       "\tNP\\_001155291 & 0              & NP\\_001155291\\\\\n",
       "\tNP\\_002462 & 0              & NP\\_002462   \\\\\n",
       "\tNP\\_000248 & 0              & NP\\_000248   \\\\\n",
       "\tNP\\_036467 & 0              & NP\\_036467   \\\\\n",
       "\tNP\\_004989 & 0              & NP\\_004989   \\\\\n",
       "\tNP\\_001243024 & 0              & NP\\_001243024\\\\\n",
       "\tNP\\_149043 & 0              & NP\\_149043   \\\\\n",
       "\tNP\\_067047 & 0              & NP\\_067047   \\\\\n",
       "\t... & ... & ...\\\\\n",
       "\tNP\\_443073 & 0              & NP\\_443073   \\\\\n",
       "\tNP\\_001121687 & 0              & NP\\_001121687\\\\\n",
       "\tNP\\_945193 & 0              & NP\\_945193   \\\\\n",
       "\tNP\\_653326 & 0              & NP\\_653326   \\\\\n",
       "\tNP\\_001243586 & 0              & NP\\_001243586\\\\\n",
       "\tNP\\_000991 & 0              & NP\\_000991   \\\\\n",
       "\tNP\\_001164102 & 0              & NP\\_001164102\\\\\n",
       "\tNP\\_057700 & 0              & NP\\_057700   \\\\\n",
       "\tNP\\_115996 & 0              & NP\\_115996   \\\\\n",
       "\tNP\\_699167 & 0              & NP\\_699167   \\\\\n",
       "\tNP\\_001004456 & 0              & NP\\_001004456\\\\\n",
       "\tNP\\_001087199 & 0              & NP\\_001087199\\\\\n",
       "\tNP\\_001792 & 0              & NP\\_001792   \\\\\n",
       "\tNP\\_001185982 & 0              & NP\\_001185982\\\\\n",
       "\tNP\\_848578 & 0              & NP\\_848578   \\\\\n",
       "\tNP\\_997625 & 0              & NP\\_997625   \\\\\n",
       "\tNP\\_003270 & 0              & NP\\_003270   \\\\\n",
       "\tNP\\_078879 & 0              & NP\\_078879   \\\\\n",
       "\tNP\\_057655 & 0              & NP\\_057655   \\\\\n",
       "\tNP\\_653179 & 0              & NP\\_653179   \\\\\n",
       "\tNP\\_002460 & 0              & NP\\_002460   \\\\\n",
       "\tNP\\_001092808 & 0              & NP\\_001092808\\\\\n",
       "\tNP\\_000610 & 0              & NP\\_000610   \\\\\n",
       "\tNP\\_699178 & 0              & NP\\_699178   \\\\\n",
       "\tNP\\_006140 & 0              & NP\\_006140   \\\\\n",
       "\tNP\\_068835 & 0              & NP\\_068835   \\\\\n",
       "\tNP\\_612382 & 0              & NP\\_612382   \\\\\n",
       "\tNP\\_848561 & 0              & NP\\_848561   \\\\\n",
       "\tNP\\_665813 & 0              & NP\\_665813   \\\\\n",
       "\tNP\\_001193600 & 0              & NP\\_001193600\\\\\n",
       "\\end{tabular}\n"
      ],
      "text/markdown": [
       "\n",
       "| <!--/--> | times_selected | protein | \n",
       "|---|---|---|---|---|---|---|---|---|---|---|---|---|---|---|---|---|---|---|---|---|---|---|---|---|---|---|---|---|---|---|---|---|---|---|---|---|---|---|---|---|---|---|---|---|---|---|---|---|---|---|---|---|---|---|---|---|---|---|---|---|\n",
       "| NP_958782 | 0            | NP_958782    | \n",
       "| NP_958785 | 0            | NP_958785    | \n",
       "| NP_958786 | 0            | NP_958786    | \n",
       "| NP_000436 | 0            | NP_000436    | \n",
       "| NP_958781 | 0            | NP_958781    | \n",
       "| NP_958780 | 0            | NP_958780    | \n",
       "| NP_958783 | 0            | NP_958783    | \n",
       "| NP_958784 | 0            | NP_958784    | \n",
       "| NP_112598 | 0            | NP_112598    | \n",
       "| NP_001611 | 0            | NP_001611    | \n",
       "| NP_076965 | 0            | NP_076965    | \n",
       "| NP_001367 | 3            | NP_001367    | \n",
       "| NP_036222 | 0            | NP_036222    | \n",
       "| NP_001138241 | 0            | NP_001138241 | \n",
       "| NP_001714 | 0            | NP_001714    | \n",
       "| NP_002464 | 0            | NP_002464    | \n",
       "| NP_001073936 | 0            | NP_001073936 | \n",
       "| NP_061198 | 0            | NP_061198    | \n",
       "| NP_001074248 | 0            | NP_001074248 | \n",
       "| NP_001074419 | 0            | NP_001074419 | \n",
       "| NP_056009 | 0            | NP_056009    | \n",
       "| NP_036355 | 0            | NP_036355    | \n",
       "| NP_001155291 | 0            | NP_001155291 | \n",
       "| NP_002462 | 0            | NP_002462    | \n",
       "| NP_000248 | 0            | NP_000248    | \n",
       "| NP_036467 | 0            | NP_036467    | \n",
       "| NP_004989 | 0            | NP_004989    | \n",
       "| NP_001243024 | 0            | NP_001243024 | \n",
       "| NP_149043 | 0            | NP_149043    | \n",
       "| NP_067047 | 0            | NP_067047    | \n",
       "| ... | ... | ... | \n",
       "| NP_443073 | 0            | NP_443073    | \n",
       "| NP_001121687 | 0            | NP_001121687 | \n",
       "| NP_945193 | 0            | NP_945193    | \n",
       "| NP_653326 | 0            | NP_653326    | \n",
       "| NP_001243586 | 0            | NP_001243586 | \n",
       "| NP_000991 | 0            | NP_000991    | \n",
       "| NP_001164102 | 0            | NP_001164102 | \n",
       "| NP_057700 | 0            | NP_057700    | \n",
       "| NP_115996 | 0            | NP_115996    | \n",
       "| NP_699167 | 0            | NP_699167    | \n",
       "| NP_001004456 | 0            | NP_001004456 | \n",
       "| NP_001087199 | 0            | NP_001087199 | \n",
       "| NP_001792 | 0            | NP_001792    | \n",
       "| NP_001185982 | 0            | NP_001185982 | \n",
       "| NP_848578 | 0            | NP_848578    | \n",
       "| NP_997625 | 0            | NP_997625    | \n",
       "| NP_003270 | 0            | NP_003270    | \n",
       "| NP_078879 | 0            | NP_078879    | \n",
       "| NP_057655 | 0            | NP_057655    | \n",
       "| NP_653179 | 0            | NP_653179    | \n",
       "| NP_002460 | 0            | NP_002460    | \n",
       "| NP_001092808 | 0            | NP_001092808 | \n",
       "| NP_000610 | 0            | NP_000610    | \n",
       "| NP_699178 | 0            | NP_699178    | \n",
       "| NP_006140 | 0            | NP_006140    | \n",
       "| NP_068835 | 0            | NP_068835    | \n",
       "| NP_612382 | 0            | NP_612382    | \n",
       "| NP_848561 | 0            | NP_848561    | \n",
       "| NP_665813 | 0            | NP_665813    | \n",
       "| NP_001193600 | 0            | NP_001193600 | \n",
       "\n",
       "\n"
      ],
      "text/plain": [
       "             times_selected protein     \n",
       "NP_958782    0              NP_958782   \n",
       "NP_958785    0              NP_958785   \n",
       "NP_958786    0              NP_958786   \n",
       "NP_000436    0              NP_000436   \n",
       "NP_958781    0              NP_958781   \n",
       "NP_958780    0              NP_958780   \n",
       "NP_958783    0              NP_958783   \n",
       "NP_958784    0              NP_958784   \n",
       "NP_112598    0              NP_112598   \n",
       "NP_001611    0              NP_001611   \n",
       "NP_076965    0              NP_076965   \n",
       "NP_001367    3              NP_001367   \n",
       "NP_036222    0              NP_036222   \n",
       "NP_001138241 0              NP_001138241\n",
       "NP_001714    0              NP_001714   \n",
       "NP_002464    0              NP_002464   \n",
       "NP_001073936 0              NP_001073936\n",
       "NP_061198    0              NP_061198   \n",
       "NP_001074248 0              NP_001074248\n",
       "NP_001074419 0              NP_001074419\n",
       "NP_056009    0              NP_056009   \n",
       "NP_036355    0              NP_036355   \n",
       "NP_001155291 0              NP_001155291\n",
       "NP_002462    0              NP_002462   \n",
       "NP_000248    0              NP_000248   \n",
       "NP_036467    0              NP_036467   \n",
       "NP_004989    0              NP_004989   \n",
       "NP_001243024 0              NP_001243024\n",
       "NP_149043    0              NP_149043   \n",
       "NP_067047    0              NP_067047   \n",
       "...          ...            ...         \n",
       "NP_443073    0              NP_443073   \n",
       "NP_001121687 0              NP_001121687\n",
       "NP_945193    0              NP_945193   \n",
       "NP_653326    0              NP_653326   \n",
       "NP_001243586 0              NP_001243586\n",
       "NP_000991    0              NP_000991   \n",
       "NP_001164102 0              NP_001164102\n",
       "NP_057700    0              NP_057700   \n",
       "NP_115996    0              NP_115996   \n",
       "NP_699167    0              NP_699167   \n",
       "NP_001004456 0              NP_001004456\n",
       "NP_001087199 0              NP_001087199\n",
       "NP_001792    0              NP_001792   \n",
       "NP_001185982 0              NP_001185982\n",
       "NP_848578    0              NP_848578   \n",
       "NP_997625    0              NP_997625   \n",
       "NP_003270    0              NP_003270   \n",
       "NP_078879    0              NP_078879   \n",
       "NP_057655    0              NP_057655   \n",
       "NP_653179    0              NP_653179   \n",
       "NP_002460    0              NP_002460   \n",
       "NP_001092808 0              NP_001092808\n",
       "NP_000610    0              NP_000610   \n",
       "NP_699178    0              NP_699178   \n",
       "NP_006140    0              NP_006140   \n",
       "NP_068835    0              NP_068835   \n",
       "NP_612382    0              NP_612382   \n",
       "NP_848561    0              NP_848561   \n",
       "NP_665813    0              NP_665813   \n",
       "NP_001193600 0              NP_001193600"
      ]
     },
     "metadata": {},
     "output_type": "display_data"
    }
   ],
   "source": [
    "stability_matrix <- matrix(nrow=length(lasso.stab[[1]]),ncol=length(lasso.stab))\n",
    "rownames(stability_matrix) <- rownames(lasso.stab[[1]])\n",
    "for (i in 1:300){\n",
    "  temp.data.frame <- as.matrix(lasso.stab[[i]])\n",
    "  stability_matrix[,i] <- temp.data.frame\n",
    "}\n",
    "stability_matrix <- ifelse(stability_matrix != 0, 1, 0) \n",
    "stability_matrix <- stability_matrix[2:nrow(stability_matrix),] \n",
    "stable_variables <- as.data.frame(rowSums(stability_matrix))\n",
    "stable_variables$protein <- rownames(stable_variables)\n",
    "colnames(stable_variables)[1] <- \"times_selected\" \n",
    "stable_variables[!is.na(stable_variables$times_selected),] \n",
    "stable_variables <- stable_variables[stable_variables$times_selected != 0,] \n",
    "stable_variables <- stable_variables[order(-stable_variables$times_selected),] "
   ]
  },
  {
   "cell_type": "code",
   "execution_count": 17,
   "metadata": {},
   "outputs": [
    {
     "data": {},
     "metadata": {},
     "output_type": "display_data"
    },
    {
     "data": {
      "image/png": "[encoded data removed]",
      "text/plain": [
       "plot without title"
      ]
     },
     "metadata": {},
     "output_type": "display_data"
    }
   ],
   "source": [
    "ggplot(stable_variables[1:40,], aes(x=reorder(as.factor(protein),-abs(times_selected),mean), y=times_selected, col =reorder(as.factor(protein),-abs(times_selected),mean), fill =reorder(as.factor(protein),-abs(times_selected),mean))) + geom_col(show.legend = FALSE, alpha = 0.6) + theme(axis.text.x = element_text(angle = 90, hjust = 1), axis.text=element_text(size=10)) + xlab(\"Protein\") + ylab(\"Times selected\")\n",
    "STABVARS <- stable_variables$protein[1:40]\n",
    "STABVARS.ind <- which(colnames(data) %in% STABVARS)"
   ]
  },
  {
   "cell_type": "code",
   "execution_count": 18,
   "metadata": {},
   "outputs": [
    {
     "name": "stderr",
     "output_type": "stream",
     "text": [
      "\n",
      "Attaching package: 'gridExtra'\n",
      "\n",
      "The following object is masked from 'package:dplyr':\n",
      "\n",
      "    combine\n",
      "\n"
     ]
    },
    {
     "data": {
      "image/png": "[encoded data removed]",
      "text/plain": [
       "plot without title"
      ]
     },
     "metadata": {},
     "output_type": "display_data"
    },
    {
     "data": {
      "image/png": "[encoded data removed]",
      "text/plain": [
       "plot without title"
      ]
     },
     "metadata": {},
     "output_type": "display_data"
    },
    {
     "data": {
      "image/png": "[encoded data removed]",
      "text/plain": [
       "plot without title"
      ]
     },
     "metadata": {},
     "output_type": "display_data"
    },
    {
     "data": {
      "image/png": "[encoded data removed]",
      "text/plain": [
       "plot without title"
      ]
     },
     "metadata": {},
     "output_type": "display_data"
    },
    {
     "data": {
      "image/png": "[encoded data removed]",
      "text/plain": [
       "plot without title"
      ]
     },
     "metadata": {},
     "output_type": "display_data"
    }
   ],
   "source": [
    "library(gridExtra)\n",
    "for (i in 1:length(STABVARS[1:5])){\n",
    "print(ggplot(data, aes_string(\"PAM50.mRNA\", STABVARS[i], col=\"PAM50.mRNA\", fill=\"PAM50.mRNA\")) + geom_boxplot(alpha=0.3) + ggtitle(STABVARS[i]))\n",
    "}"
   ]
  },
  {
   "cell_type": "code",
   "execution_count": 20,
   "metadata": {},
   "outputs": [],
   "source": [
    "write.csv(data[, c(16, STABVARS.ind)],file=\"vital.csv\",row.names=FALSE)"
   ]
  },
  {
   "cell_type": "code",
   "execution_count": 21,
   "metadata": {},
   "outputs": [
    {
     "data": {
      "text/plain": [
       "Confusion Matrix and Statistics\n",
       "\n",
       "               Reference\n",
       "Prediction      Basal-like HER2-enriched Luminal A Luminal B\n",
       "  Basal-like             4             0         0         1\n",
       "  HER2-enriched          1             3         0         0\n",
       "  Luminal A              0             0         5         1\n",
       "  Luminal B              0             0         1         5\n",
       "\n",
       "Overall Statistics\n",
       "                                          \n",
       "               Accuracy : 0.8095          \n",
       "                 95% CI : (0.5809, 0.9455)\n",
       "    No Information Rate : 0.3333          \n",
       "    P-Value [Acc > NIR] : 1.026e-05       \n",
       "                                          \n",
       "                  Kappa : 0.7423          \n",
       " Mcnemar's Test P-Value : NA              \n",
       "\n",
       "Statistics by Class:\n",
       "\n",
       "                     Class: Basal-like Class: HER2-enriched Class: Luminal A\n",
       "Sensitivity                     0.8000               1.0000           0.8333\n",
       "Specificity                     0.9375               0.9444           0.9333\n",
       "Pos Pred Value                  0.8000               0.7500           0.8333\n",
       "Neg Pred Value                  0.9375               1.0000           0.9333\n",
       "Prevalence                      0.2381               0.1429           0.2857\n",
       "Detection Rate                  0.1905               0.1429           0.2381\n",
       "Detection Prevalence            0.2381               0.1905           0.2857\n",
       "Balanced Accuracy               0.8688               0.9722           0.8833\n",
       "                     Class: Luminal B\n",
       "Sensitivity                    0.7143\n",
       "Specificity                    0.9286\n",
       "Pos Pred Value                 0.8333\n",
       "Neg Pred Value                 0.8667\n",
       "Prevalence                     0.3333\n",
       "Detection Rate                 0.2381\n",
       "Detection Prevalence           0.2857\n",
       "Balanced Accuracy              0.8214"
      ]
     },
     "metadata": {},
     "output_type": "display_data"
    }
   ],
   "source": [
    "set.seed(1)\n",
    "train_control <- trainControl(method=\"repeatedcv\", number=3, repeats=10, savePredictions = TRUE, summaryFunction = multiClassSummary) \n",
    "grid <- expand.grid(C = seq(0.000001,0.15,0.002))\n",
    "\n",
    "set.seed(1)\n",
    "svm.lin.mod <- train(PAM50.mRNA ~ ., data=data[samp, c(21, STABVARS.ind)], trControl=train_control, method=\"svmLinear\", preProcess = c(\"center\",\"scale\"), tuneGrid =grid, tuneLength = 10)\n",
    "svm.predicts <- predict(svm.lin.mod, newdata = data[-samp, c(21, STABVARS.ind)])\n",
    "\n",
    "confusionMatrix(svm.predicts, data$PAM50.mRNA[-samp])"
   ]
  },
  {
   "cell_type": "code",
   "execution_count": 23,
   "metadata": {},
   "outputs": [
    {
     "name": "stdout",
     "output_type": "stream",
     "text": [
      "[1] \"Overall accuracy is 81 %\"\n"
     ]
    }
   ],
   "source": [
    "overall_svm  <- confusionMatrix(svm.predicts, data$PAM50.mRNA[-samp])\n",
    "print(paste(paste(\"Overall accuracy is\", round(overall_svm$overall[1],3)*100),\"%\"))"
   ]
  },
  {
   "cell_type": "code",
   "execution_count": 24,
   "metadata": {},
   "outputs": [
    {
     "data": {
      "image/png": "[encoded data removed]",
      "text/plain": [
       "plot without title"
      ]
     },
     "metadata": {},
     "output_type": "display_data"
    }
   ],
   "source": [
    "set.seed(123)\n",
    "library(rpart)\n",
    "model_rpart <- rpart(PAM50.mRNA ~ ., data = data[samp, c(21, STABVARS.ind)], method = \"class\")\n",
    "# Plot the trees\n",
    "par(xpd = NA) # Avoid clipping the text in some device\n",
    "plot(model_rpart)\n",
    "text(model_rpart, digits = 3)\n"
   ]
  },
  {
   "cell_type": "code",
   "execution_count": 25,
   "metadata": {},
   "outputs": [
    {
     "data": {
      "text/html": [
       "<dl class=dl-horizontal>\n",
       "\t<dt>11</dt>\n",
       "\t\t<dd>Basal-like</dd>\n",
       "\t<dt>12</dt>\n",
       "\t\t<dd>HER2-enriched</dd>\n",
       "\t<dt>16</dt>\n",
       "\t\t<dd>Basal-like</dd>\n",
       "\t<dt>17</dt>\n",
       "\t\t<dd>Basal-like</dd>\n",
       "\t<dt>19</dt>\n",
       "\t\t<dd>Basal-like</dd>\n",
       "\t<dt>22</dt>\n",
       "\t\t<dd>Luminal A</dd>\n",
       "</dl>\n",
       "\n",
       "<details>\n",
       "\t<summary style=display:list-item;cursor:pointer>\n",
       "\t\t<strong>Levels</strong>:\n",
       "\t</summary>\n",
       "\t<ol class=list-inline>\n",
       "\t\t<li>'Basal-like'</li>\n",
       "\t\t<li>'HER2-enriched'</li>\n",
       "\t\t<li>'Luminal A'</li>\n",
       "\t\t<li>'Luminal B'</li>\n",
       "\t</ol>\n",
       "</details>"
      ],
      "text/latex": [
       "\\begin{description*}\n",
       "\\item[11] Basal-like\n",
       "\\item[12] HER2-enriched\n",
       "\\item[16] Basal-like\n",
       "\\item[17] Basal-like\n",
       "\\item[19] Basal-like\n",
       "\\item[22] Luminal A\n",
       "\\end{description*}\n",
       "\n",
       "\\emph{Levels}: \\begin{enumerate*}\n",
       "\\item 'Basal-like'\n",
       "\\item 'HER2-enriched'\n",
       "\\item 'Luminal A'\n",
       "\\item 'Luminal B'\n",
       "\\end{enumerate*}\n"
      ],
      "text/markdown": [
       "11\n",
       ":   Basal-like12\n",
       ":   HER2-enriched16\n",
       ":   Basal-like17\n",
       ":   Basal-like19\n",
       ":   Basal-like22\n",
       ":   Luminal A\n",
       "\n",
       "\n",
       "**Levels**: 1. 'Basal-like'\n",
       "2. 'HER2-enriched'\n",
       "3. 'Luminal A'\n",
       "4. 'Luminal B'\n",
       "\n",
       "\n"
      ],
      "text/plain": [
       "           11            12            16            17            19 \n",
       "   Basal-like HER2-enriched    Basal-like    Basal-like    Basal-like \n",
       "           22 \n",
       "    Luminal A \n",
       "Levels: Basal-like HER2-enriched Luminal A Luminal B"
      ]
     },
     "metadata": {},
     "output_type": "display_data"
    }
   ],
   "source": [
    "predicted.classes <- model_rpart %>% \n",
    "  predict(newdata = data[-samp, c(21, STABVARS.ind)], type = \"class\")\n",
    "head(predicted.classes)\n"
   ]
  },
  {
   "cell_type": "code",
   "execution_count": 26,
   "metadata": {},
   "outputs": [
    {
     "data": {
      "text/plain": [
       "Confusion Matrix and Statistics\n",
       "\n",
       "               Reference\n",
       "Prediction      Basal-like HER2-enriched Luminal A Luminal B\n",
       "  Basal-like             4             1         0         0\n",
       "  HER2-enriched          1             1         1         0\n",
       "  Luminal A              5             0         1         0\n",
       "  Luminal B              0             0         1         6\n",
       "\n",
       "Overall Statistics\n",
       "                                          \n",
       "               Accuracy : 0.5714          \n",
       "                 95% CI : (0.3402, 0.7818)\n",
       "    No Information Rate : 0.4762          \n",
       "    P-Value [Acc > NIR] : 0.256           \n",
       "                                          \n",
       "                  Kappa : 0.4185          \n",
       " Mcnemar's Test P-Value : NA              \n",
       "\n",
       "Statistics by Class:\n",
       "\n",
       "                     Class: Basal-like Class: HER2-enriched Class: Luminal A\n",
       "Sensitivity                     0.4000              0.50000          0.33333\n",
       "Specificity                     0.9091              0.89474          0.72222\n",
       "Pos Pred Value                  0.8000              0.33333          0.16667\n",
       "Neg Pred Value                  0.6250              0.94444          0.86667\n",
       "Prevalence                      0.4762              0.09524          0.14286\n",
       "Detection Rate                  0.1905              0.04762          0.04762\n",
       "Detection Prevalence            0.2381              0.14286          0.28571\n",
       "Balanced Accuracy               0.6545              0.69737          0.52778\n",
       "                     Class: Luminal B\n",
       "Sensitivity                    1.0000\n",
       "Specificity                    0.9333\n",
       "Pos Pred Value                 0.8571\n",
       "Neg Pred Value                 1.0000\n",
       "Prevalence                     0.2857\n",
       "Detection Rate                 0.2857\n",
       "Detection Prevalence           0.3333\n",
       "Balanced Accuracy              0.9667"
      ]
     },
     "metadata": {},
     "output_type": "display_data"
    }
   ],
   "source": [
    "confusionMatrix(data$PAM50.mRNA[-samp],predicted.classes)"
   ]
  },
  {
   "cell_type": "code",
   "execution_count": 27,
   "metadata": {},
   "outputs": [
    {
     "name": "stdout",
     "output_type": "stream",
     "text": [
      "[1] \"Overall accuracy is 57.1 %\"\n"
     ]
    }
   ],
   "source": [
    "overall_cart  <- confusionMatrix(data$PAM50.mRNA[-samp],predicted.classes)\n",
    "print(paste(paste(\"Overall accuracy is\", round(mean(predicted.classes == data$PAM50.mRNA[-samp]),3)*100),\"%\"))"
   ]
  },
  {
   "cell_type": "code",
   "execution_count": 36,
   "metadata": {},
   "outputs": [
    {
     "data": {
      "text/plain": [
       "Confusion Matrix and Statistics\n",
       "\n",
       "               Reference\n",
       "Prediction      Basal-like HER2-enriched Luminal A Luminal B\n",
       "  Basal-like             5             0         0         0\n",
       "  HER2-enriched          0             3         0         0\n",
       "  Luminal A              0             0         6         0\n",
       "  Luminal B              0             0         2         5\n",
       "\n",
       "Overall Statistics\n",
       "                                          \n",
       "               Accuracy : 0.9048          \n",
       "                 95% CI : (0.6962, 0.9883)\n",
       "    No Information Rate : 0.381           \n",
       "    P-Value [Acc > NIR] : 9.309e-07       \n",
       "                                          \n",
       "                  Kappa : 0.8704          \n",
       " Mcnemar's Test P-Value : NA              \n",
       "\n",
       "Statistics by Class:\n",
       "\n",
       "                     Class: Basal-like Class: HER2-enriched Class: Luminal A\n",
       "Sensitivity                     1.0000               1.0000           0.7500\n",
       "Specificity                     1.0000               1.0000           1.0000\n",
       "Pos Pred Value                  1.0000               1.0000           1.0000\n",
       "Neg Pred Value                  1.0000               1.0000           0.8667\n",
       "Prevalence                      0.2381               0.1429           0.3810\n",
       "Detection Rate                  0.2381               0.1429           0.2857\n",
       "Detection Prevalence            0.2381               0.1429           0.2857\n",
       "Balanced Accuracy               1.0000               1.0000           0.8750\n",
       "                     Class: Luminal B\n",
       "Sensitivity                    1.0000\n",
       "Specificity                    0.8750\n",
       "Pos Pred Value                 0.7143\n",
       "Neg Pred Value                 1.0000\n",
       "Prevalence                     0.2381\n",
       "Detection Rate                 0.2381\n",
       "Detection Prevalence           0.3333\n",
       "Balanced Accuracy              0.9375"
      ]
     },
     "metadata": {},
     "output_type": "display_data"
    }
   ],
   "source": [
    "set.seed(12)\n",
    "#Training the knn model\n",
    "model_knn<-train(data=data[samp, c(21, STABVARS.ind)],PAM50.mRNA ~ .,method='knn',trControl=train_control,tuneLength=3)\n",
    "\n",
    "testSet_knn<-data[-samp,]\n",
    "#Predicting using knn model\n",
    "testSet_knn$pred_knn<-predict(object = model_knn,newdata = data[-samp, c(21, STABVARS.ind)])\n",
    "\n",
    "#Checking the accuracy of the random forest model\n",
    "confusionMatrix(data$PAM50.mRNA[-samp],testSet_knn$pred_knn)\n"
   ]
  },
  {
   "cell_type": "code",
   "execution_count": 37,
   "metadata": {},
   "outputs": [
    {
     "name": "stdout",
     "output_type": "stream",
     "text": [
      "[1] \"Overall accuracy is 90.5 %\"\n"
     ]
    }
   ],
   "source": [
    "overall_knn  <- confusionMatrix(data$PAM50.mRNA[-samp],testSet_knn$pred_knn)\n",
    "print(paste(paste(\"Overall accuracy is\", round(overall_knn$overall[1],3)*100),\"%\"))"
   ]
  },
  {
   "cell_type": "code",
   "execution_count": 38,
   "metadata": {},
   "outputs": [
    {
     "data": {
      "text/plain": [
       "Confusion Matrix and Statistics\n",
       "\n",
       "               Reference\n",
       "Prediction      Basal-like HER2-enriched Luminal A Luminal B\n",
       "  Basal-like             4             0         0         1\n",
       "  HER2-enriched          0             3         0         0\n",
       "  Luminal A              0             0         5         1\n",
       "  Luminal B              0             0         1         6\n",
       "\n",
       "Overall Statistics\n",
       "                                          \n",
       "               Accuracy : 0.8571          \n",
       "                 95% CI : (0.6366, 0.9695)\n",
       "    No Information Rate : 0.381           \n",
       "    P-Value [Acc > NIR] : 9.94e-06        \n",
       "                                          \n",
       "                  Kappa : 0.8031          \n",
       " Mcnemar's Test P-Value : NA              \n",
       "\n",
       "Statistics by Class:\n",
       "\n",
       "                     Class: Basal-like Class: HER2-enriched Class: Luminal A\n",
       "Sensitivity                     1.0000               1.0000           0.8333\n",
       "Specificity                     0.9412               1.0000           0.9333\n",
       "Pos Pred Value                  0.8000               1.0000           0.8333\n",
       "Neg Pred Value                  1.0000               1.0000           0.9333\n",
       "Prevalence                      0.1905               0.1429           0.2857\n",
       "Detection Rate                  0.1905               0.1429           0.2381\n",
       "Detection Prevalence            0.2381               0.1429           0.2857\n",
       "Balanced Accuracy               0.9706               1.0000           0.8833\n",
       "                     Class: Luminal B\n",
       "Sensitivity                    0.7500\n",
       "Specificity                    0.9231\n",
       "Pos Pred Value                 0.8571\n",
       "Neg Pred Value                 0.8571\n",
       "Prevalence                     0.3810\n",
       "Detection Rate                 0.2857\n",
       "Detection Prevalence           0.3333\n",
       "Balanced Accuracy              0.8365"
      ]
     },
     "metadata": {},
     "output_type": "display_data"
    }
   ],
   "source": [
    "#Training the random forest model\n",
    "set.seed(23)\n",
    "model_rf<-train(data=data[samp, c(21, STABVARS.ind)],PAM50.mRNA ~ .,method='rf',trControl=train_control,tuneLength=3)\n",
    "testSet<-data[-samp,]\n",
    "#Predicting using random forest model\n",
    "testSet$pred_rf<-predict(object = model_rf,newdata = data[-samp, c(21, STABVARS.ind)])\n",
    "confusionMatrix(data$PAM50.mRNA[-samp],testSet$pred_rf)"
   ]
  },
  {
   "cell_type": "code",
   "execution_count": 39,
   "metadata": {},
   "outputs": [
    {
     "name": "stdout",
     "output_type": "stream",
     "text": [
      "[1] \"Overall accuracy is 85.7 %\"\n"
     ]
    }
   ],
   "source": [
    "overall_rf  <- confusionMatrix(data$PAM50.mRNA[-samp],testSet$pred_rf)\n",
    "print(paste(paste(\"Overall accuracy is\", round(overall_rf$overall[1],3)*100),\"%\"))"
   ]
  },
  {
   "cell_type": "code",
   "execution_count": 40,
   "metadata": {},
   "outputs": [
    {
     "name": "stderr",
     "output_type": "stream",
     "text": [
      "randomForest 4.6-14\n",
      "Type rfNews() to see new features/changes/bug fixes.\n",
      "\n",
      "Attaching package: 'randomForest'\n",
      "\n",
      "The following object is masked from 'package:gridExtra':\n",
      "\n",
      "    combine\n",
      "\n",
      "The following object is masked from 'package:ggplot2':\n",
      "\n",
      "    margin\n",
      "\n",
      "The following object is masked from 'package:dplyr':\n",
      "\n",
      "    combine\n",
      "\n"
     ]
    },
    {
     "data": {
      "text/html": [
       "<ol class=list-inline>\n",
       "\t<li>'NP_038479'</li>\n",
       "\t<li>'NP_001258898'</li>\n",
       "\t<li>'NP_542785'</li>\n",
       "\t<li>'NP_065821'</li>\n",
       "\t<li>'NP_055644'</li>\n",
       "\t<li>'NP_001371'</li>\n",
       "\t<li>'NP_002005'</li>\n",
       "\t<li>'XP_003846537'</li>\n",
       "\t<li>'NP_660208'</li>\n",
       "\t<li>'NP_004439'</li>\n",
       "\t<li>'NP_036228'</li>\n",
       "\t<li>'NP_004388'</li>\n",
       "\t<li>'NP_004243'</li>\n",
       "\t<li>'NP_003144'</li>\n",
       "\t<li>'NP_001171551'</li>\n",
       "\t<li>'NP_054868'</li>\n",
       "\t<li>'NP_072096'</li>\n",
       "\t<li>'NP_005484'</li>\n",
       "\t<li>'NP_056513'</li>\n",
       "\t<li>'NP_061170'</li>\n",
       "\t<li>'NP_653304'</li>\n",
       "\t<li>'NP_653081'</li>\n",
       "\t<li>'NP_060125'</li>\n",
       "\t<li>'NP_006627'</li>\n",
       "\t<li>'NP_004453'</li>\n",
       "\t<li>'NP_060337'</li>\n",
       "\t<li>'NP_001257810'</li>\n",
       "\t<li>'NP_003212'</li>\n",
       "\t<li>'NP_060866'</li>\n",
       "\t<li>'NP_001160163'</li>\n",
       "\t<li>'NP_004499'</li>\n",
       "\t<li>'NP_003875'</li>\n",
       "\t<li>'NP_002677'</li>\n",
       "\t<li>'NP_001135891'</li>\n",
       "\t<li>'NP_004522'</li>\n",
       "\t<li>'NP_003767'</li>\n",
       "\t<li>'NP_848597'</li>\n",
       "\t<li>'NP_005970'</li>\n",
       "\t<li>'NP_060182'</li>\n",
       "\t<li>'NP_660344'</li>\n",
       "</ol>\n"
      ],
      "text/latex": [
       "\\begin{enumerate*}\n",
       "\\item 'NP\\_038479'\n",
       "\\item 'NP\\_001258898'\n",
       "\\item 'NP\\_542785'\n",
       "\\item 'NP\\_065821'\n",
       "\\item 'NP\\_055644'\n",
       "\\item 'NP\\_001371'\n",
       "\\item 'NP\\_002005'\n",
       "\\item 'XP\\_003846537'\n",
       "\\item 'NP\\_660208'\n",
       "\\item 'NP\\_004439'\n",
       "\\item 'NP\\_036228'\n",
       "\\item 'NP\\_004388'\n",
       "\\item 'NP\\_004243'\n",
       "\\item 'NP\\_003144'\n",
       "\\item 'NP\\_001171551'\n",
       "\\item 'NP\\_054868'\n",
       "\\item 'NP\\_072096'\n",
       "\\item 'NP\\_005484'\n",
       "\\item 'NP\\_056513'\n",
       "\\item 'NP\\_061170'\n",
       "\\item 'NP\\_653304'\n",
       "\\item 'NP\\_653081'\n",
       "\\item 'NP\\_060125'\n",
       "\\item 'NP\\_006627'\n",
       "\\item 'NP\\_004453'\n",
       "\\item 'NP\\_060337'\n",
       "\\item 'NP\\_001257810'\n",
       "\\item 'NP\\_003212'\n",
       "\\item 'NP\\_060866'\n",
       "\\item 'NP\\_001160163'\n",
       "\\item 'NP\\_004499'\n",
       "\\item 'NP\\_003875'\n",
       "\\item 'NP\\_002677'\n",
       "\\item 'NP\\_001135891'\n",
       "\\item 'NP\\_004522'\n",
       "\\item 'NP\\_003767'\n",
       "\\item 'NP\\_848597'\n",
       "\\item 'NP\\_005970'\n",
       "\\item 'NP\\_060182'\n",
       "\\item 'NP\\_660344'\n",
       "\\end{enumerate*}\n"
      ],
      "text/markdown": [
       "1. 'NP_038479'\n",
       "2. 'NP_001258898'\n",
       "3. 'NP_542785'\n",
       "4. 'NP_065821'\n",
       "5. 'NP_055644'\n",
       "6. 'NP_001371'\n",
       "7. 'NP_002005'\n",
       "8. 'XP_003846537'\n",
       "9. 'NP_660208'\n",
       "10. 'NP_004439'\n",
       "11. 'NP_036228'\n",
       "12. 'NP_004388'\n",
       "13. 'NP_004243'\n",
       "14. 'NP_003144'\n",
       "15. 'NP_001171551'\n",
       "16. 'NP_054868'\n",
       "17. 'NP_072096'\n",
       "18. 'NP_005484'\n",
       "19. 'NP_056513'\n",
       "20. 'NP_061170'\n",
       "21. 'NP_653304'\n",
       "22. 'NP_653081'\n",
       "23. 'NP_060125'\n",
       "24. 'NP_006627'\n",
       "25. 'NP_004453'\n",
       "26. 'NP_060337'\n",
       "27. 'NP_001257810'\n",
       "28. 'NP_003212'\n",
       "29. 'NP_060866'\n",
       "30. 'NP_001160163'\n",
       "31. 'NP_004499'\n",
       "32. 'NP_003875'\n",
       "33. 'NP_002677'\n",
       "34. 'NP_001135891'\n",
       "35. 'NP_004522'\n",
       "36. 'NP_003767'\n",
       "37. 'NP_848597'\n",
       "38. 'NP_005970'\n",
       "39. 'NP_060182'\n",
       "40. 'NP_660344'\n",
       "\n",
       "\n"
      ],
      "text/plain": [
       " [1] \"NP_038479\"    \"NP_001258898\" \"NP_542785\"    \"NP_065821\"    \"NP_055644\"   \n",
       " [6] \"NP_001371\"    \"NP_002005\"    \"XP_003846537\" \"NP_660208\"    \"NP_004439\"   \n",
       "[11] \"NP_036228\"    \"NP_004388\"    \"NP_004243\"    \"NP_003144\"    \"NP_001171551\"\n",
       "[16] \"NP_054868\"    \"NP_072096\"    \"NP_005484\"    \"NP_056513\"    \"NP_061170\"   \n",
       "[21] \"NP_653304\"    \"NP_653081\"    \"NP_060125\"    \"NP_006627\"    \"NP_004453\"   \n",
       "[26] \"NP_060337\"    \"NP_001257810\" \"NP_003212\"    \"NP_060866\"    \"NP_001160163\"\n",
       "[31] \"NP_004499\"    \"NP_003875\"    \"NP_002677\"    \"NP_001135891\" \"NP_004522\"   \n",
       "[36] \"NP_003767\"    \"NP_848597\"    \"NP_005970\"    \"NP_060182\"    \"NP_660344\"   "
      ]
     },
     "metadata": {},
     "output_type": "display_data"
    }
   ],
   "source": [
    "set.seed(1)\n",
    "library(randomForest)\n",
    "fit_rf = randomForest(PAM50.mRNA~., data=data[samp, c(21, STABVARS.ind)])\n",
    "# Create an importance based on mean decreasing gini\n",
    "imp<-importance(fit_rf)\n",
    "predictors<-as.vector(rownames(imp))\n",
    "predictors"
   ]
  },
  {
   "cell_type": "code",
   "execution_count": 41,
   "metadata": {},
   "outputs": [
    {
     "data": {},
     "metadata": {},
     "output_type": "display_data"
    },
    {
     "data": {
      "image/png": "[encoded data removed]",
      "text/plain": [
       "plot without title"
      ]
     },
     "metadata": {},
     "output_type": "display_data"
    }
   ],
   "source": [
    "algo<-c(\"SVM\",\"CART\",\"KNN\",\"Random Forest\")\n",
    "accuracy<-c(\"84.7\",\"57.1\",\"90.5\",\"85.7\")\n",
    "x <- data.frame(\"algo\" = algo, \"accuracy\" = accuracy)\n",
    "\n",
    "library(ggplot2)\n",
    "ggplot(x, aes(algo, accuracy, colour = algo , fill=accuracy)) + \n",
    "  geom_point(size=5)\n"
   ]
  },
  {
   "cell_type": "code",
   "execution_count": null,
   "metadata": {},
   "outputs": [],
   "source": []
  }
 ],
 "metadata": {
  "kernelspec": {
   "display_name": "R",
   "language": "R",
   "name": "ir"
  },
  "language_info": {
   "codemirror_mode": "r",
   "file_extension": ".r",
   "mimetype": "text/x-r-source",
   "name": "R",
   "pygments_lexer": "r",
   "version": "3.5.1"
  }
 },
 "nbformat": 4,
 "nbformat_minor": 2
}
